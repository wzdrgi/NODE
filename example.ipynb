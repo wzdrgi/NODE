{
 "cells": [
  {
   "cell_type": "code",
   "execution_count": 1,
   "metadata": {},
   "outputs": [],
   "source": [
    "import NODE_deconvolution as nd\n",
    "import numpy as np\n",
    "import pandas as pd"
   ]
  },
  {
   "cell_type": "code",
   "execution_count": 4,
   "metadata": {},
   "outputs": [],
   "source": [
    "st_data = pd.read_csv('D:/vspy/example_data/test_data/st_data.txt',sep=' ')\n",
    "sc_data = pd.read_csv('D:/vspy/example_data/test_data/sc_data.txt',sep=' ')\n",
    "st_coordinate = pd.read_csv('D:/vspy/example_data/test_data/st_pixel.txt',sep=' ')\n",
    "cell_type = pd.read_csv('D:/vspy/example_data/test_data/cell_type.txt',sep=' ')"
   ]
  },
  {
   "cell_type": "code",
   "execution_count": 5,
   "metadata": {},
   "outputs": [],
   "source": [
    "st_data = np.vstack((np.array(st_data.columns).reshape(1,-1),st_data.values))\n",
    "sc_data = np.vstack((np.array(sc_data.columns).reshape(1,-1),sc_data.values))\n",
    "st_coordinate = np.vstack((np.array(st_coordinate.columns).reshape(1,-1),st_coordinate.values))\n",
    "cell_type = np.vstack((np.array(cell_type.columns).reshape(1,-1),cell_type.values))"
   ]
  },
  {
   "cell_type": "code",
   "execution_count": 6,
   "metadata": {},
   "outputs": [
    {
     "name": "stdout",
     "output_type": "stream",
     "text": [
      "use scipy to deconvolution\n",
      "Deconvolution Start\n"
     ]
    },
    {
     "name": "stderr",
     "output_type": "stream",
     "text": [
      "100%|██████████| 10/10 [00:00<00:00, 29.10it/s]"
     ]
    },
    {
     "name": "stdout",
     "output_type": "stream",
     "text": [
      "Deconvolution Finish!\n"
     ]
    },
    {
     "name": "stderr",
     "output_type": "stream",
     "text": [
      "\n"
     ]
    }
   ],
   "source": [
    "result_data,result_data_normalized,W_interaction = nd.get_deconvolution(\n",
    "                                st_data = st_data,\n",
    "                                sc_data = sc_data,\n",
    "                                cell_type = cell_type,\n",
    "                                st_coordinate = st_coordinate,\n",
    "                                method_optimize = 1,\n",
    "                                prossecing_reserve = False,\n",
    "                                file_path = '',\n",
    "                                Number_of_iterations = 500)"
   ]
  },
  {
   "cell_type": "code",
   "execution_count": 7,
   "metadata": {},
   "outputs": [],
   "source": [
    "# HH 4-4.5pcw\n",
    "st_data = pd.read_csv('D:/vspy/example_data/real_data/st_data.txt',sep=' ')\n",
    "sc_data = pd.read_csv('D:/vspy/example_data/real_data/sc_data.txt',sep=' ')\n",
    "st_coordinate = pd.read_csv('D:/vspy/example_data/real_data/st_coordinates.txt',sep=' ')\n",
    "cell_type = pd.read_csv('D:/vspy/example_data/real_data/celltype.txt',sep=' ')"
   ]
  },
  {
   "cell_type": "code",
   "execution_count": 8,
   "metadata": {},
   "outputs": [],
   "source": [
    "st_data = np.vstack((np.array(st_data.columns).reshape(1,-1),st_data.values))\n",
    "sc_data = np.vstack((np.array(sc_data.columns).reshape(1,-1),sc_data.values))\n",
    "st_coordinate = np.vstack((np.array(st_coordinate.columns).reshape(1,-1),st_coordinate.values))\n",
    "cell_type = np.vstack((np.array(cell_type.columns).reshape(1,-1),cell_type.values))"
   ]
  },
  {
   "cell_type": "code",
   "execution_count": 9,
   "metadata": {},
   "outputs": [
    {
     "name": "stdout",
     "output_type": "stream",
     "text": [
      "use scipy to deconvolution\n",
      "Deconvolution Start\n"
     ]
    },
    {
     "name": "stderr",
     "output_type": "stream",
     "text": [
      "100%|██████████| 55/55 [02:59<00:00,  3.27s/it]"
     ]
    },
    {
     "name": "stdout",
     "output_type": "stream",
     "text": [
      "Deconvolution Finish!\n"
     ]
    },
    {
     "name": "stderr",
     "output_type": "stream",
     "text": [
      "\n"
     ]
    }
   ],
   "source": [
    "result_data,result_data_normalized,W_interaction = nd.get_deconvolution(\n",
    "                                st_data = st_data,\n",
    "                                sc_data = sc_data,\n",
    "                                cell_type = cell_type,\n",
    "                                st_coordinate = st_coordinate,\n",
    "                                method_optimize = 1,\n",
    "                                prossecing_reserve = False,\n",
    "                                file_path = '',\n",
    "                                Number_of_iterations = 500)"
   ]
  },
  {
   "cell_type": "code",
   "execution_count": null,
   "metadata": {},
   "outputs": [],
   "source": []
  }
 ],
 "metadata": {
  "kernelspec": {
   "display_name": "dev_node",
   "language": "python",
   "name": "python3"
  },
  "language_info": {
   "codemirror_mode": {
    "name": "ipython",
    "version": 3
   },
   "file_extension": ".py",
   "mimetype": "text/x-python",
   "name": "python",
   "nbconvert_exporter": "python",
   "pygments_lexer": "ipython3",
   "version": "3.9.20"
  }
 },
 "nbformat": 4,
 "nbformat_minor": 2
}
